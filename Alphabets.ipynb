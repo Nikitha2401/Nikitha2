{
 "cells": [
  {
   "cell_type": "code",
   "execution_count": 2,
   "id": "b15f1948",
   "metadata": {},
   "outputs": [
    {
     "name": "stdout",
     "output_type": "stream",
     "text": [
      "* *  *\n",
      "*    *\n",
      "* ** *\n",
      "*    *\n"
     ]
    }
   ],
   "source": [
    "x=0\n",
    "while x<4:\n",
    "    if x==0:\n",
    "        print(\"* *  *\")\n",
    "    elif x==1:\n",
    "        print(\"*    *\")\n",
    "    elif x==2:\n",
    "         print(\"* ** *\")\n",
    "    elif x==3:\n",
    "         print(\"*    *\")\n",
    "    x=x+1"
   ]
  },
  {
   "cell_type": "code",
   "execution_count": 248,
   "id": "51e8519a",
   "metadata": {},
   "outputs": [
    {
     "name": "stdout",
     "output_type": "stream",
     "text": [
      "* * *\n",
      "*   *\n",
      "* ** \n",
      "*   *\n",
      "* * *\n"
     ]
    }
   ],
   "source": [
    "x=0\n",
    "while x<5:\n",
    "    if x==0:\n",
    "        print(\"* * *\")\n",
    "    elif x==1:\n",
    "        print(\"*   *\")\n",
    "    elif x==2:\n",
    "        print (\"* ** \")\n",
    "    elif x==3:\n",
    "        print(\"*   *\")\n",
    "    elif x==4:\n",
    "        print(\"* * *\")\n",
    "    x=x+1"
   ]
  },
  {
   "cell_type": "code",
   "execution_count": 2,
   "id": "f26b48f4",
   "metadata": {},
   "outputs": [
    {
     "name": "stdout",
     "output_type": "stream",
     "text": [
      "* *  *\n",
      "*    \n",
      "*    \n",
      "*  * *\n"
     ]
    }
   ],
   "source": [
    "x=0\n",
    "while x<4:\n",
    "    if x==0:\n",
    "        print(\"* *  *\")\n",
    "    elif x==1:\n",
    "        print(\"*    \")\n",
    "    elif x==2:\n",
    "        print (\"*    \")\n",
    "    elif x==3:\n",
    "        print(\"*  * *\")\n",
    "    x=x+1"
   ]
  },
  {
   "cell_type": "code",
   "execution_count": 20,
   "id": "7bb8e71e",
   "metadata": {},
   "outputs": [
    {
     "name": "stdout",
     "output_type": "stream",
     "text": [
      "* * *\n",
      "*    *\n",
      "*    *\n",
      "*  *  \n"
     ]
    }
   ],
   "source": [
    "x=0\n",
    "while x<4:\n",
    "    if x==0:\n",
    "        print(\"* * *\")\n",
    "    elif x==1:\n",
    "        print(\"*    *\")\n",
    "    elif x==2:\n",
    "        print (\"*    *\")\n",
    "    elif x==3:\n",
    "        print(\"*  *  \")\n",
    "    x=x+1"
   ]
  },
  {
   "cell_type": "code",
   "execution_count": 3,
   "id": "859f3545",
   "metadata": {},
   "outputs": [
    {
     "name": "stdout",
     "output_type": "stream",
     "text": [
      "*  *  *\n",
      "*    \n",
      "* * *  \n",
      "*   \n",
      "*  *  *\n"
     ]
    }
   ],
   "source": [
    "x=0\n",
    "while x<5:\n",
    "    if x==0:\n",
    "        print(\"*  *  *\")\n",
    "    elif x==1:\n",
    "        print(\"*    \")\n",
    "    elif x==2:\n",
    "        print (\"* * *  \")\n",
    "    elif x==3:\n",
    "        print(\"*   \")\n",
    "    elif x==4:\n",
    "        print(\"*  *  *\")\n",
    "    x=x+1"
   ]
  },
  {
   "cell_type": "code",
   "execution_count": 4,
   "id": "776a9908",
   "metadata": {},
   "outputs": [
    {
     "name": "stdout",
     "output_type": "stream",
     "text": [
      "*  *  *\n",
      "*      \n",
      "* * *  \n",
      "*      \n"
     ]
    }
   ],
   "source": [
    "x=0\n",
    "while x<4:\n",
    "    if x==0:\n",
    "        print(\"*  *  *\")\n",
    "    elif x==1:\n",
    "        print(\"*      \")\n",
    "    elif x==2:\n",
    "        print (\"* * *  \")\n",
    "    elif x==3:\n",
    "        print(\"*      \")\n",
    "    x=x+1"
   ]
  },
  {
   "cell_type": "code",
   "execution_count": 78,
   "id": "0e488b95",
   "metadata": {},
   "outputs": [
    {
     "name": "stdout",
     "output_type": "stream",
     "text": [
      "*  *  *\n",
      "*      \n",
      "*    *  *\n",
      "*    *  *\n",
      "        *\n"
     ]
    }
   ],
   "source": [
    "x=0\n",
    "while x<5:\n",
    "    if x==0:\n",
    "        print(\"*  *  *\")\n",
    "    elif x==1:\n",
    "        print(\"*      \")\n",
    "    elif x==2:\n",
    "        print (\"*    *  *\")\n",
    "    elif x==3:\n",
    "        print(\"*    *  *\")\n",
    "    elif x==4:\n",
    "        print(\"        *\")\n",
    "    x=x+1"
   ]
  },
  {
   "cell_type": "code",
   "execution_count": 71,
   "id": "4e431d55",
   "metadata": {},
   "outputs": [
    {
     "name": "stdout",
     "output_type": "stream",
     "text": [
      "*      *\n",
      "*      *\n",
      "*  * * *\n",
      "*      *\n"
     ]
    }
   ],
   "source": [
    "x=0\n",
    "while x<4:\n",
    "    if x==0:\n",
    "        print(\"*      *\")\n",
    "    elif x==1:\n",
    "        print(\"*      *\")\n",
    "    elif x==2:\n",
    "        print (\"*  * * *\")\n",
    "    elif x==3:\n",
    "        print(\"*      *\")\n",
    "    x=x+1"
   ]
  },
  {
   "cell_type": "code",
   "execution_count": 81,
   "id": "1d2144dc",
   "metadata": {},
   "outputs": [
    {
     "name": "stdout",
     "output_type": "stream",
     "text": [
      "*****\n",
      "  *  \n",
      "  * \n",
      "*****\n"
     ]
    }
   ],
   "source": [
    "x=0\n",
    "while x<4:\n",
    "    if x==0:\n",
    "        print(\"*****\")\n",
    "    elif x==1:\n",
    "        print(\"  *  \")\n",
    "    elif x==2:\n",
    "        print(\"  * \")\n",
    "    elif x==3:\n",
    "        print(\"*****\")\n",
    "    x=x+1"
   ]
  },
  {
   "cell_type": "code",
   "execution_count": 87,
   "id": "3c855752",
   "metadata": {},
   "outputs": [
    {
     "name": "stdout",
     "output_type": "stream",
     "text": [
      "*******\n",
      "   *\n",
      "   * \n",
      "****\n"
     ]
    }
   ],
   "source": [
    "x=0\n",
    "while x<4:\n",
    "    if x==0:\n",
    "        print(\"*******\")\n",
    "    elif x==1:\n",
    "        print(\"   *\")\n",
    "    elif x==2:\n",
    "        print(\"   * \")\n",
    "    elif x==3:\n",
    "        print(\"****\")\n",
    "    x=x+1"
   ]
  },
  {
   "cell_type": "code",
   "execution_count": 92,
   "id": "0317c366",
   "metadata": {},
   "outputs": [
    {
     "name": "stdout",
     "output_type": "stream",
     "text": [
      "*    *\n",
      "*  *  \n",
      "** \n",
      "*  * \n",
      "*    *\n"
     ]
    }
   ],
   "source": [
    "x=0\n",
    "while x<5:\n",
    "    if x==0:\n",
    "        print(\"*    *\")\n",
    "    elif x==1:\n",
    "        print(\"*  *  \")\n",
    "    elif x==2:\n",
    "        print(\"** \")\n",
    "    elif x==3:\n",
    "        print(\"*  * \")\n",
    "    elif x==4:\n",
    "        print(\"*    *\")\n",
    "    x=x+1"
   ]
  },
  {
   "cell_type": "code",
   "execution_count": 6,
   "id": "5ecd3c30",
   "metadata": {},
   "outputs": [
    {
     "name": "stdout",
     "output_type": "stream",
     "text": [
      "*   \n",
      "*    \n",
      "*    \n",
      "*****\n"
     ]
    }
   ],
   "source": [
    "x=0\n",
    "while x<4:\n",
    "    if x==0:\n",
    "        print(\"*   \")\n",
    "    elif x==1:\n",
    "        print(\"*    \")\n",
    "    elif x==2:\n",
    "        print(\"*    \")\n",
    "    elif x==3:\n",
    "        print(\"*****\")\n",
    "    x=x+1"
   ]
  },
  {
   "cell_type": "code",
   "execution_count": 109,
   "id": "5b568987",
   "metadata": {},
   "outputs": [
    {
     "name": "stdout",
     "output_type": "stream",
     "text": [
      "*      *\n",
      "* *  * *\n",
      "*  *   * \n",
      "*      *\n"
     ]
    }
   ],
   "source": [
    "x=0\n",
    "while x<4:\n",
    "    if x==0:\n",
    "        print(\"*      *\")\n",
    "    elif x==1:\n",
    "        print(\"* *  * *\")\n",
    "    elif x==2:\n",
    "        print(\"*  *   * \")\n",
    "    elif x==3:\n",
    "        print(\"*      *\")\n",
    "    x=x+1"
   ]
  },
  {
   "cell_type": "code",
   "execution_count": 113,
   "id": "6fc70e06",
   "metadata": {},
   "outputs": [
    {
     "name": "stdout",
     "output_type": "stream",
     "text": [
      "*      *\n",
      "* *    *\n",
      "*  *   * \n",
      "*    * *\n"
     ]
    }
   ],
   "source": [
    "x=0\n",
    "while x<4:\n",
    "    if x==0:\n",
    "        print(\"*      *\")\n",
    "    elif x==1:\n",
    "        print(\"* *    *\")\n",
    "    elif x==2:\n",
    "        print(\"*  *   * \")\n",
    "    elif x==3:\n",
    "        print(\"*    * *\")\n",
    "    x=x+1"
   ]
  },
  {
   "cell_type": "code",
   "execution_count": 186,
   "id": "e27dd794",
   "metadata": {},
   "outputs": [
    {
     "name": "stdout",
     "output_type": "stream",
     "text": [
      "* * *  *\n",
      "*      *\n",
      "*      *\n",
      "*      *\n",
      "*  * * *\n"
     ]
    }
   ],
   "source": [
    "x=0\n",
    "while x<5:\n",
    "    if x==0:\n",
    "        print(\"* * *  *\")\n",
    "    elif x==1:\n",
    "        print(\"*      *\")\n",
    "    elif x==2: \n",
    "        print(\"*      *\")\n",
    "    elif x==3:\n",
    "        print(\"*      *\")\n",
    "    elif x==4:\n",
    "        print(\"*  * * *\")\n",
    "    x=x+1"
   ]
  },
  {
   "cell_type": "code",
   "execution_count": 118,
   "id": "e6136e4c",
   "metadata": {},
   "outputs": [
    {
     "name": "stdout",
     "output_type": "stream",
     "text": [
      "*  *  *\n",
      "*      *\n",
      "*  * *  \n",
      "*      \n"
     ]
    }
   ],
   "source": [
    "x=0\n",
    "while x<4:\n",
    "    if x==0:\n",
    "        print(\"*  *  *\")\n",
    "    elif x==1:\n",
    "        print(\"*      *\")\n",
    "    elif x==2:\n",
    "        print (\"*  * *  \")\n",
    "    elif x==3:\n",
    "        print(\"*      \")\n",
    "    x=x+1"
   ]
  },
  {
   "cell_type": "code",
   "execution_count": 133,
   "id": "2fd6e9bd",
   "metadata": {},
   "outputs": [
    {
     "name": "stdout",
     "output_type": "stream",
     "text": [
      " *****\n",
      "*     *\n",
      "*  * * \n",
      " **** *\n",
      "      *\n"
     ]
    }
   ],
   "source": [
    "x=0\n",
    "while x<5:\n",
    "    if x==0:\n",
    "        print(\" *****\")\n",
    "    elif x==1:\n",
    "        print(\"*     *\")\n",
    "    elif x==2: \n",
    "        print(\"*  * * \")\n",
    "    elif x==3:\n",
    "        print(\" **** *\")\n",
    "    elif x==4:\n",
    "        print(\"      *\")\n",
    "    x=x+1"
   ]
  },
  {
   "cell_type": "code",
   "execution_count": 136,
   "id": "53c9460a",
   "metadata": {},
   "outputs": [
    {
     "name": "stdout",
     "output_type": "stream",
     "text": [
      "*  *  *\n",
      "*      *\n",
      "*  * *  \n",
      "*   *   \n",
      "*      *\n"
     ]
    }
   ],
   "source": [
    "x=0\n",
    "while x<5:\n",
    "    if x==0:\n",
    "        print(\"*  *  *\")\n",
    "    elif x==1:\n",
    "        print(\"*      *\")\n",
    "    elif x==2:\n",
    "        print (\"*  * *  \")\n",
    "    elif x==3:\n",
    "        print(\"*   *   \")\n",
    "    elif x==4:\n",
    "        print(\"*      *\")\n",
    "    x=x+1"
   ]
  },
  {
   "cell_type": "code",
   "execution_count": 177,
   "id": "b605d4d8",
   "metadata": {},
   "outputs": [
    {
     "name": "stdout",
     "output_type": "stream",
     "text": [
      "* * * *\n",
      "*  \n",
      "* * *  *\n",
      "       *\n",
      "*  * * *\n"
     ]
    }
   ],
   "source": [
    "x=0\n",
    "while x<5:\n",
    "    if x==0:\n",
    "        print(\"* * * *\")\n",
    "    elif x==1:\n",
    "        print(\"*  \")\n",
    "    elif x==2: \n",
    "        print(\"* * *  *\")\n",
    "    elif x==3:\n",
    "        print(\"       *\")\n",
    "    elif x==4:\n",
    "        print(\"*  * * *\")\n",
    "    x=x+1"
   ]
  },
  {
   "cell_type": "code",
   "execution_count": 179,
   "id": "133d50ae",
   "metadata": {},
   "outputs": [
    {
     "name": "stdout",
     "output_type": "stream",
     "text": [
      "*****\n",
      "  *  \n",
      "  * \n",
      "  *  \n"
     ]
    }
   ],
   "source": [
    "x=0\n",
    "while x<4:\n",
    "    if x==0:\n",
    "        print(\"*****\")\n",
    "    elif x==1:\n",
    "        print(\"  *  \")\n",
    "    elif x==2:\n",
    "        print(\"  * \")\n",
    "    elif x==3:\n",
    "        print(\"  *  \")\n",
    "    x=x+1"
   ]
  },
  {
   "cell_type": "code",
   "execution_count": 187,
   "id": "07b9b76c",
   "metadata": {},
   "outputs": [
    {
     "name": "stdout",
     "output_type": "stream",
     "text": [
      "*      *\n",
      "*      *\n",
      "*      *\n",
      "*      *\n",
      "*  * * *\n"
     ]
    }
   ],
   "source": [
    "x=0\n",
    "while x<5:\n",
    "    if x==0:\n",
    "        print(\"*      *\")\n",
    "    elif x==1:\n",
    "        print(\"*      *\")\n",
    "    elif x==2: \n",
    "        print(\"*      *\")\n",
    "    elif x==3:\n",
    "        print(\"*      *\")\n",
    "    elif x==4:\n",
    "        print(\"*  * * *\")\n",
    "    x=x+1"
   ]
  },
  {
   "cell_type": "code",
   "execution_count": 191,
   "id": "40618a4b",
   "metadata": {},
   "outputs": [
    {
     "name": "stdout",
     "output_type": "stream",
     "text": [
      "*      *\n",
      "*      *\n",
      "*      *\n",
      "   *   \n"
     ]
    }
   ],
   "source": [
    "x=0\n",
    "while x<4:\n",
    "    if x==0:\n",
    "        print(\"*      *\")\n",
    "    elif x==1:\n",
    "        print(\"*      *\")\n",
    "    elif x==2: \n",
    "        print(\"*      *\")\n",
    "    elif x==3:\n",
    "        print(\"   *   \")\n",
    "    x=x+1"
   ]
  },
  {
   "cell_type": "code",
   "execution_count": 206,
   "id": "6f5fde8a",
   "metadata": {},
   "outputs": [
    {
     "name": "stdout",
     "output_type": "stream",
     "text": [
      "*      *\n",
      "*   *  *\n",
      "*   *  *\n",
      "* *  * *\n"
     ]
    }
   ],
   "source": [
    "x=0\n",
    "while x<4:\n",
    "    if x==0:\n",
    "        print(\"*      *\")\n",
    "    elif x==1:\n",
    "        print(\"*   *  *\")\n",
    "    elif x==2: \n",
    "        print(\"*   *  *\")\n",
    "    elif x==3:\n",
    "        print(\"* *  * *\")\n",
    "    x=x+1"
   ]
  },
  {
   "cell_type": "code",
   "execution_count": 218,
   "id": "ec5ce369",
   "metadata": {},
   "outputs": [
    {
     "name": "stdout",
     "output_type": "stream",
     "text": [
      "*        *\n",
      "   *    \n",
      "     *  \n",
      "*       *\n"
     ]
    }
   ],
   "source": [
    "x=0\n",
    "while x<4:\n",
    "    if x==0:\n",
    "        print(\"*        *\")\n",
    "    elif x==1:\n",
    "        print(\"   *    \")\n",
    "    elif x==2: \n",
    "        print(\"     *  \")\n",
    "    elif x==3:\n",
    "        print(\"*       *\")\n",
    "    x=x+1"
   ]
  },
  {
   "cell_type": "code",
   "execution_count": 224,
   "id": "3e2c361a",
   "metadata": {},
   "outputs": [
    {
     "name": "stdout",
     "output_type": "stream",
     "text": [
      "*       *\n",
      "    *    \n",
      "   *     \n",
      " *       \n"
     ]
    }
   ],
   "source": [
    "x=0\n",
    "while x<4:\n",
    "    if x==0:\n",
    "        print(\"*       *\")\n",
    "    elif x==1:\n",
    "        print(\"    *    \")\n",
    "    elif x==2: \n",
    "        print(\"   *     \")\n",
    "    elif x==3:\n",
    "        print(\" *       \")\n",
    "    x=x+1"
   ]
  },
  {
   "cell_type": "code",
   "execution_count": 232,
   "id": "a07ff0a0",
   "metadata": {},
   "outputs": [
    {
     "name": "stdout",
     "output_type": "stream",
     "text": [
      "* * * *\n",
      "     *\n",
      "  *  \n",
      " *      \n",
      "*  * * *\n"
     ]
    }
   ],
   "source": [
    "x=0\n",
    "while x<5:\n",
    "    if x==0:\n",
    "        print(\"* * * *\")\n",
    "    elif x==1:\n",
    "        print(\"     *\")\n",
    "    elif x==2: \n",
    "        print(\"  *  \")\n",
    "    elif x==3:\n",
    "        print(\" *      \")\n",
    "    elif x==4:\n",
    "        print(\"*  * * *\")\n",
    "    x=x+1"
   ]
  },
  {
   "cell_type": "code",
   "execution_count": null,
   "id": "c1386ff4",
   "metadata": {},
   "outputs": [],
   "source": []
  }
 ],
 "metadata": {
  "kernelspec": {
   "display_name": "Python 3 (ipykernel)",
   "language": "python",
   "name": "python3"
  },
  "language_info": {
   "codemirror_mode": {
    "name": "ipython",
    "version": 3
   },
   "file_extension": ".py",
   "mimetype": "text/x-python",
   "name": "python",
   "nbconvert_exporter": "python",
   "pygments_lexer": "ipython3",
   "version": "3.9.12"
  }
 },
 "nbformat": 4,
 "nbformat_minor": 5
}
