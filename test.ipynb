{
 "cells": [
  {
   "cell_type": "code",
   "execution_count": 1,
   "id": "9153469e",
   "metadata": {},
   "outputs": [],
   "source": [
    "# create a new string even should be upper case"
   ]
  },
  {
   "cell_type": "code",
   "execution_count": 2,
   "id": "413f4607",
   "metadata": {},
   "outputs": [],
   "source": [
    "x=0\n",
    "y=\"abcde\"\n",
    "string=\"\"\n",
    "while x<len(y):\n",
    "    if   x%2==0:\n",
    "         string=string+y[x].upper()\n",
    "    else:\n",
    "        string=string+y[x].lower()\n",
    "    x=x+1"
   ]
  },
  {
   "cell_type": "code",
   "execution_count": 3,
   "id": "00635e1f",
   "metadata": {},
   "outputs": [
    {
     "data": {
      "text/plain": [
       "'AbCdE'"
      ]
     },
     "execution_count": 3,
     "metadata": {},
     "output_type": "execute_result"
    }
   ],
   "source": [
    "string"
   ]
  },
  {
   "cell_type": "code",
   "execution_count": null,
   "id": "9b25d687",
   "metadata": {},
   "outputs": [],
   "source": [
    "#2"
   ]
  },
  {
   "cell_type": "code",
   "execution_count": 4,
   "id": "44cd587d",
   "metadata": {},
   "outputs": [
    {
     "name": "stdout",
     "output_type": "stream",
     "text": [
      "<class 'str'>\n",
      "<class 'float'>\n",
      "<class 'str'>\n",
      "<class 'complex'>\n"
     ]
    }
   ],
   "source": [
    "x=[\"a\",2.2,\"abc\",1+2j]\n",
    "y=0\n",
    "while y<len(x):\n",
    "     print(type(x[y]))\n",
    "     y=y+1"
   ]
  },
  {
   "cell_type": "code",
   "execution_count": 26,
   "id": "9ace7aea",
   "metadata": {},
   "outputs": [],
   "source": [
    "# 3 x=[\"a\",\"b\",1,\"c\",2,3,\"d\",\"e\",4]\n",
    "#abcde\n",
    "#10"
   ]
  },
  {
   "cell_type": "code",
   "execution_count": 1,
   "id": "4dd12598",
   "metadata": {},
   "outputs": [],
   "source": [
    "x=[\"a\",\"b\",1,\"c\",2,3,\"d\",\"e\",4]\n",
    "y=0\n",
    "z=\"\"\n",
    "a=0\n",
    "\n",
    "while y<len(x):\n",
    "    if str(x[y]).isalpha():\n",
    "        z=z+x[y]\n",
    "    else:  \n",
    "        a=a+x[y]\n",
    "    y=y+1"
   ]
  },
  {
   "cell_type": "code",
   "execution_count": 2,
   "id": "c8e95dd3",
   "metadata": {},
   "outputs": [
    {
     "data": {
      "text/plain": [
       "'abcde'"
      ]
     },
     "execution_count": 2,
     "metadata": {},
     "output_type": "execute_result"
    }
   ],
   "source": [
    "z"
   ]
  },
  {
   "cell_type": "code",
   "execution_count": 3,
   "id": "f641b4bb",
   "metadata": {},
   "outputs": [
    {
     "data": {
      "text/plain": [
       "10"
      ]
     },
     "execution_count": 3,
     "metadata": {},
     "output_type": "execute_result"
    }
   ],
   "source": [
    "a"
   ]
  },
  {
   "cell_type": "code",
   "execution_count": null,
   "id": "beac8854",
   "metadata": {},
   "outputs": [],
   "source": [
    "#4"
   ]
  },
  {
   "cell_type": "code",
   "execution_count": 13,
   "id": "0188c03e",
   "metadata": {},
   "outputs": [
    {
     "name": "stdout",
     "output_type": "stream",
     "text": [
      "enter a string:abc123def\n"
     ]
    }
   ],
   "source": [
    "y=input(\"enter a string:\")\n",
    "x=0\n",
    "str=\"\"\n",
    "str1=\"\"\n",
    "while x<len(y):\n",
    "    if y[x].isdigit():\n",
    "        str=str+y[x]\n",
    "    else:\n",
    "        str1=str1+y[x]\n",
    "    x=x+1"
   ]
  },
  {
   "cell_type": "code",
   "execution_count": 16,
   "id": "a16241dd",
   "metadata": {},
   "outputs": [
    {
     "data": {
      "text/plain": [
       "'123'"
      ]
     },
     "execution_count": 16,
     "metadata": {},
     "output_type": "execute_result"
    }
   ],
   "source": [
    "str"
   ]
  },
  {
   "cell_type": "code",
   "execution_count": 17,
   "id": "2a3f900f",
   "metadata": {},
   "outputs": [
    {
     "data": {
      "text/plain": [
       "'abcdef'"
      ]
     },
     "execution_count": 17,
     "metadata": {},
     "output_type": "execute_result"
    }
   ],
   "source": [
    "str1"
   ]
  },
  {
   "cell_type": "code",
   "execution_count": null,
   "id": "1d089c1d",
   "metadata": {},
   "outputs": [],
   "source": [
    "#5"
   ]
  },
  {
   "cell_type": "code",
   "execution_count": 1,
   "id": "01ef9c1a",
   "metadata": {},
   "outputs": [],
   "source": [
    "l1=[1,2,\"a\",\"b\"]\n",
    "l2=[6,1,3,\"c\",\"d\"]\n",
    "a=set(l1)^set(l2)"
   ]
  },
  {
   "cell_type": "code",
   "execution_count": 2,
   "id": "c0c9563d",
   "metadata": {},
   "outputs": [
    {
     "data": {
      "text/plain": [
       "{2, 3, 6, 'a', 'b', 'c', 'd'}"
      ]
     },
     "execution_count": 2,
     "metadata": {},
     "output_type": "execute_result"
    }
   ],
   "source": [
    "a"
   ]
  },
  {
   "cell_type": "code",
   "execution_count": null,
   "id": "993a67c4",
   "metadata": {},
   "outputs": [],
   "source": [
    "#6"
   ]
  },
  {
   "cell_type": "code",
   "execution_count": 40,
   "id": "f77b7261",
   "metadata": {},
   "outputs": [
    {
     "name": "stdout",
     "output_type": "stream",
     "text": [
      "Enter your first number: 1\n",
      "Enter your second number: 2\n",
      "+ for addition ,- for subtraction,* for multiplication,/ for division-\n",
      "1 - 2 = \n",
      "-1\n"
     ]
    }
   ],
   "source": [
    "num_1 = int(input('Enter your first number: '))\n",
    "num_2 = int(input('Enter your second number: '))\n",
    "choice = input('''+ for addition ,- for subtraction,* for multiplication,/ for division''')\n",
    "if choice == '+':\n",
    "    print('{} + {} = '.format(num_1, num_2))\n",
    "    print(num_1 + num_2)\n",
    " \n",
    "elif choice == '-':\n",
    "    print('{} - {} = '.format(num_1, num_2))\n",
    "    print(num_1 - num_2)\n",
    " \n",
    "elif choice == '*':\n",
    "    print('{} * {} = '.format(num_1, num_2))\n",
    "    print(num_1 * num_2)\n",
    " \n",
    "elif choice == '/':\n",
    "    print('{} / {} = '.format(num_1, num_2))\n",
    "    print(num_1 / num_2)\n",
    " \n",
    "else:\n",
    "    print('invalid.')\n"
   ]
  },
  {
   "cell_type": "code",
   "execution_count": null,
   "id": "2c972253",
   "metadata": {},
   "outputs": [],
   "source": []
  }
 ],
 "metadata": {
  "kernelspec": {
   "display_name": "Python 3 (ipykernel)",
   "language": "python",
   "name": "python3"
  },
  "language_info": {
   "codemirror_mode": {
    "name": "ipython",
    "version": 3
   },
   "file_extension": ".py",
   "mimetype": "text/x-python",
   "name": "python",
   "nbconvert_exporter": "python",
   "pygments_lexer": "ipython3",
   "version": "3.9.12"
  }
 },
 "nbformat": 4,
 "nbformat_minor": 5
}
